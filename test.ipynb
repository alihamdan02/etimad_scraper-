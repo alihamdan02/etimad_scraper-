{
 "cells": [
  {
   "cell_type": "code",
   "execution_count": 31,
   "id": "668601e2",
   "metadata": {},
   "outputs": [],
   "source": [
    "from mysql.connector import connect, Error\n",
    "from config import MYSQL_CONFIG"
   ]
  },
  {
   "cell_type": "code",
   "execution_count": 32,
   "id": "7c640b2c",
   "metadata": {},
   "outputs": [],
   "source": [
    "localhost = MYSQL_CONFIG['host']\n",
    "user = MYSQL_CONFIG['user']\n",
    "password = MYSQL_CONFIG['password']\n",
    "database = MYSQL_CONFIG['database']"
   ]
  },
  {
   "cell_type": "code",
   "execution_count": 33,
   "id": "981e9a8e",
   "metadata": {},
   "outputs": [],
   "source": [
    "mydb = connect(\n",
    "    host=localhost,\n",
    "    user=user,\n",
    "    password=password,\n",
    "    database=database\n",
    ")"
   ]
  },
  {
   "cell_type": "code",
   "execution_count": 34,
   "id": "2119970f",
   "metadata": {},
   "outputs": [],
   "source": [
    "mycursor = mydb.cursor(buffered=True)"
   ]
  },
  {
   "cell_type": "code",
   "execution_count": 35,
   "id": "31851db7",
   "metadata": {},
   "outputs": [
    {
     "name": "stdout",
     "output_type": "stream",
     "text": [
      "('etimad_classification_keywords',)\n",
      "('etimad_classifications',)\n",
      "('tender_keywords',)\n",
      "('tenders',)\n"
     ]
    }
   ],
   "source": [
    "mycursor.execute(\"SHOW TABLES\")\n",
    "\n",
    "for x in mycursor:\n",
    "  print(x)"
   ]
  },
  {
   "cell_type": "code",
   "execution_count": 36,
   "id": "9d1e939e",
   "metadata": {},
   "outputs": [
    {
     "name": "stdout",
     "output_type": "stream",
     "text": [
      "(1, 1, 'Data Governance', 'حوكمة البيانات', datetime.datetime(2025, 7, 13, 13, 35, 52))\n",
      "(2, 2, 'Cisco Networking', 'شبكات سيسكو', datetime.datetime(2025, 7, 13, 13, 38, 23))\n",
      "(3, 3, 'AWS Cloud Solutions', 'حلول سحابة أمازون', datetime.datetime(2025, 7, 13, 13, 53, 29))\n"
     ]
    }
   ],
   "source": [
    "mycursor.execute(\"SELECT * FROM etimad_classification_keywords\")\n",
    "\n",
    "myresult = mycursor.fetchall()\n",
    "\n",
    "for x in myresult:\n",
    "  print(x)"
   ]
  },
  {
   "cell_type": "code",
   "execution_count": 37,
   "id": "b130b00e",
   "metadata": {},
   "outputs": [
    {
     "name": "stdout",
     "output_type": "stream",
     "text": [
      "('إدارة البيانات', 'حوكمة البيانات')\n",
      "('إدارة البيانات', 'شبكات سيسكو')\n",
      "('خدمات السحابة', 'حلول سحابة أمازون')\n"
     ]
    }
   ],
   "source": [
    "mycursor.execute(\"\"\"\n",
    "SELECT \n",
    "    ec.name_ar AS classification_name_ar,\n",
    "    eck.keyword_ar AS keyword_ar\n",
    "FROM \n",
    "    etimad_classifications AS ec\n",
    "JOIN \n",
    "    etimad_classification_keywords AS eck \n",
    "    ON ec.id = eck.classification_id\n",
    "ORDER BY \n",
    "    ec.unit, ec.name_ar, eck.keyword_ar\n",
    "\"\"\")\n",
    "\n",
    "\n",
    "myresult = mycursor.fetchall()\n",
    "\n",
    "for x in myresult:\n",
    "    print(x)"
   ]
  },
  {
   "cell_type": "code",
   "execution_count": 38,
   "id": "0ff87fdd",
   "metadata": {},
   "outputs": [
    {
     "name": "stdout",
     "output_type": "stream",
     "text": [
      "(1, 'https://tenders.etimad.sa/Tender/DetailsForVisitor?STenderId=FQBfbgojPzEsnoIC5oPFew==', 'تجديد رخص أدوات إدارة وحوكمة البيانات ودليل البيانات والدعم الفني', '107247', '250639011591', 'تجديد رخص أدوات إدارة وحوكمة البيانات ودليل البيانات والدعم الفني ...عرض الأقل...', Decimal('600.00'), 'Submitted', '12 شهر', 'لا', 'منافسة عامة', 'وزارة الموارد البشرية والتنمية الاجتماعية', datetime.datetime(2025, 7, 13, 0, 0), datetime.datetime(2025, 7, 19, 9, 59), datetime.datetime(2025, 7, 19, 10, 0), None, 5, datetime.datetime(2025, 8, 14, 0, 0), datetime.datetime(2025, 9, 10, 0, 0), datetime.datetime(2025, 7, 6, 0, 0), 5, 'ديوان الوزارة بالرياض مخرج 9 مبنى رقم 15 الدور الثالث سكرتير لجنة فتح العروض', None)\n",
      "(2, 'https://example.com/tender4', 'Network Upgrade with Cisco Solutions', '109002', '250740056789', 'Enhancing network infrastructure using Cisco solutions for improved reliability', Decimal('1200.00'), 'Under Evaluation', '24 months', 'نعم', 'منافسة عامة', 'وزارة الاتصالات', datetime.datetime(2025, 9, 10, 0, 0), datetime.datetime(2025, 9, 25, 0, 0), datetime.datetime(2025, 9, 26, 0, 0), datetime.datetime(2025, 10, 1, 0, 0), 5, datetime.datetime(2025, 10, 15, 0, 0), datetime.datetime(2025, 11, 1, 0, 0), datetime.datetime(2025, 9, 1, 0, 0), 3, 'مبنى وزارة الاتصالات، جدة', 'network_upgrade_specs.pdf')\n",
      "(3, 'https://example.com/tender5', 'Cloud Migration Services', '110003', '250850067890', 'Migrating existing services to AWS cloud for better scalability and performance', Decimal('1500.00'), 'Under Development', '18 months', 'لا', 'منافسة عامة', 'وزارة الاتصالات وتقنية المعلومات', datetime.datetime(2025, 10, 1, 0, 0), datetime.datetime(2025, 10, 15, 0, 0), datetime.datetime(2025, 10, 16, 0, 0), None, 7, datetime.datetime(2025, 11, 30, 0, 0), datetime.datetime(2025, 12, 15, 0, 0), datetime.datetime(2025, 9, 20, 0, 0), 4, 'مبنى وزارة الاتصالات، الرياض', None)\n"
     ]
    }
   ],
   "source": [
    "mycursor.execute(\"\"\"\n",
    "SELECT *\n",
    "FROM \n",
    "    tenders\n",
    "\"\"\")\n",
    "myresult = mycursor.fetchall()\n",
    "for x in myresult:\n",
    "    print(x)"
   ]
  },
  {
   "cell_type": "code",
   "execution_count": 39,
   "id": "3ffe3f43",
   "metadata": {},
   "outputs": [
    {
     "name": "stdout",
     "output_type": "stream",
     "text": [
      "('Cloud Migration Services', 'AWS Cloud Solutions', 'حلول سحابة أمازون', 'Cloud Services', 'خدمات السحابة')\n",
      "('Network Upgrade with Cisco Solutions', 'Cisco Networking', 'شبكات سيسكو', 'Data Management', 'إدارة البيانات')\n",
      "('تجديد رخص أدوات إدارة وحوكمة البيانات ودليل البيانات والدعم الفني', 'Data Governance', 'حوكمة البيانات', 'Data Management', 'إدارة البيانات')\n"
     ]
    }
   ],
   "source": [
    "mycursor.execute('''\n",
    "SELECT \n",
    "    t.tender_name,\n",
    "    eck.keyword_en AS keyword_name_en,\n",
    "    eck.keyword_ar AS keyword_name_ar,\n",
    "    ec.name_en AS classification_name_en,\n",
    "    ec.name_ar AS classification_name_ar\n",
    "FROM \n",
    "    tenders AS t\n",
    "JOIN \n",
    "    tender_keywords AS tk ON t.id = tk.tender_id\n",
    "JOIN \n",
    "    etimad_classification_keywords AS eck ON tk.keyword_id = eck.id\n",
    "JOIN \n",
    "    etimad_classifications AS ec ON eck.classification_id = ec.id\n",
    "ORDER BY \n",
    "    t.tender_name, ec.name_en, eck.keyword_en;\n",
    "''')\n",
    "\n",
    "myresult = mycursor.fetchall()\n",
    "\n",
    "for x in myresult:\n",
    "    print(x)"
   ]
  },
  {
   "cell_type": "code",
   "execution_count": 46,
   "id": "d344164e",
   "metadata": {},
   "outputs": [
    {
     "name": "stdout",
     "output_type": "stream",
     "text": [
      "('حلول سحابة أمازون', 'خدمات السحابة')\n",
      "حلول سحابة أمازون\n",
      "خدمات السحابة\n",
      "('شبكات سيسكو', 'إدارة البيانات')\n",
      "شبكات سيسكو\n",
      "إدارة البيانات\n",
      "('حوكمة البيانات', 'إدارة البيانات')\n",
      "حوكمة البيانات\n",
      "إدارة البيانات\n"
     ]
    }
   ],
   "source": [
    "mycursor.execute('''\n",
    "SELECT \n",
    "    eck.keyword_ar AS keyword_name_ar,\n",
    "    ec.name_ar AS classification_name_ar\n",
    "FROM \n",
    "    etimad_classification_keywords AS eck\n",
    "JOIN \n",
    "    etimad_classifications AS ec ON eck.classification_id = ec.id\n",
    "ORDER BY \n",
    "    ec.name_en, eck.keyword_en;\n",
    "''')\n",
    "\n",
    "myresult = mycursor.fetchall()\n",
    "    \n",
    "data = {}\n",
    "for row in myresult:\n",
    "    print(row)\n",
    "    print(row[0])\n",
    "    print(row[1])\n",
    "    classification = row[1]  # ec.name_en\n",
    "    keyword = row[0]         # eck.keyword_en\n",
    "    if classification not in data:\n",
    "        data[classification] = []\n",
    "    data[classification].append(keyword)"
   ]
  },
  {
   "cell_type": "code",
   "execution_count": 47,
   "id": "0d813dcc",
   "metadata": {},
   "outputs": [
    {
     "name": "stdout",
     "output_type": "stream",
     "text": [
      "{'خدمات السحابة': ['حلول سحابة أمازون'], 'إدارة البيانات': ['شبكات سيسكو', 'حوكمة البيانات']}\n"
     ]
    }
   ],
   "source": [
    "print(data)"
   ]
  },
  {
   "cell_type": "code",
   "execution_count": null,
   "id": "7862bb5a",
   "metadata": {},
   "outputs": [
    {
     "name": "stdout",
     "output_type": "stream",
     "text": [
      "{\n",
      "    \"خدمات السحابة\": [\n",
      "        \"حلول سحابة أمازون\"\n",
      "    ],\n",
      "    \"إدارة البيانات\": [\n",
      "        \"شبكات سيسكو\",\n",
      "        \"حوكمة البيانات\"\n",
      "    ]\n",
      "}\n"
     ]
    },
    {
     "ename": "",
     "evalue": "",
     "output_type": "error",
     "traceback": [
      "\u001b[1;31mThe Kernel crashed while executing code in the current cell or a previous cell. \n",
      "\u001b[1;31mPlease review the code in the cell(s) to identify a possible cause of the failure. \n",
      "\u001b[1;31mClick <a href='https://aka.ms/vscodeJupyterKernelCrash'>here</a> for more info. \n",
      "\u001b[1;31mView Jupyter <a href='command:jupyter.viewOutput'>log</a> for further details."
     ]
    }
   ],
   "source": [
    "import json\n",
    "print(json.dumps(data, indent=4, ensure_ascii=False))"
   ]
  },
  {
   "cell_type": "code",
   "execution_count": 43,
   "id": "9d3611ca",
   "metadata": {},
   "outputs": [
    {
     "name": "stdout",
     "output_type": "stream",
     "text": [
      "[(1, 'Data & Innovation', 'Data Management', 'Data Governance'), (2, 'Data & Innovation', 'Data Management', 'Cisco Networking'), (3, 'Data & Innovation', 'Cloud Services', 'AWS Cloud Solutions')]\n"
     ]
    }
   ],
   "source": [
    "classifications = mycursor.execute(\"\"\"\n",
    "    SELECT \n",
    "        ec.id AS classification_id,\n",
    "        ec.unit,\n",
    "        ec.name_en AS classification_name,\n",
    "        GROUP_CONCAT(eck.keyword_en) AS keywords\n",
    "    FROM \n",
    "        etimad_classifications ec\n",
    "    LEFT JOIN \n",
    "        etimad_classification_keywords eck ON ec.id = eck.classification_id\n",
    "    GROUP BY \n",
    "        ec.id, ec.unit, ec.name_en\n",
    "    ORDER BY \n",
    "        ec.id\n",
    "\"\"\")\n",
    "classifications = mycursor.fetchall()\n",
    "print(classifications)"
   ]
  },
  {
   "cell_type": "code",
   "execution_count": 44,
   "id": "0fe3b7ff",
   "metadata": {},
   "outputs": [
    {
     "name": "stdout",
     "output_type": "stream",
     "text": [
      "(1, 'Data & Innovation', 'Data Management', 'إدارة البيانات', 'Projects related to data handling and analysis', datetime.datetime(2025, 7, 13, 13, 35, 52))\n",
      "(2, 'Data & Innovation', 'Data Management', 'إدارة البيانات', 'Projects aimed at improving network infrastructure for better connectivity and security', datetime.datetime(2025, 7, 13, 13, 38, 23))\n",
      "(3, 'Data & Innovation', 'Cloud Services', 'خدمات السحابة', 'Projects related to cloud computing and services', datetime.datetime(2025, 7, 13, 13, 53, 29))\n"
     ]
    }
   ],
   "source": [
    "mycursor.execute(\"\"\"\n",
    "SELECT *\n",
    "FROM \n",
    "    etimad_classifications\n",
    "\"\"\")\n",
    "myresult = mycursor.fetchall()\n",
    "for x in myresult:\n",
    "    print(x)"
   ]
  },
  {
   "cell_type": "code",
   "execution_count": 45,
   "id": "6f85b839",
   "metadata": {},
   "outputs": [
    {
     "name": "stdout",
     "output_type": "stream",
     "text": [
      "(1, 'Data & Innovation', 'Data Management', 'إدارة البيانات', 'Projects related to data handling and analysis', datetime.datetime(2025, 7, 13, 13, 35, 52))\n",
      "(2, 'Data & Innovation', 'Data Management', 'إدارة البيانات', 'Projects aimed at improving network infrastructure for better connectivity and security', datetime.datetime(2025, 7, 13, 13, 38, 23))\n",
      "(3, 'Data & Innovation', 'Cloud Services', 'خدمات السحابة', 'Projects related to cloud computing and services', datetime.datetime(2025, 7, 13, 13, 53, 29))\n"
     ]
    }
   ],
   "source": [
    "mycursor.execute(\"\"\"\n",
    "SELECT *\n",
    "FROM \n",
    "    etimad_classifications\n",
    "\"\"\")\n",
    "myresult = mycursor.fetchall()\n",
    "for x in myresult:\n",
    "    print(x)"
   ]
  },
  {
   "cell_type": "code",
   "execution_count": null,
   "id": "e1ba721b",
   "metadata": {},
   "outputs": [],
   "source": []
  },
  {
   "cell_type": "code",
   "execution_count": null,
   "id": "587ed50a",
   "metadata": {},
   "outputs": [],
   "source": []
  },
  {
   "cell_type": "code",
   "execution_count": null,
   "id": "7a50647d",
   "metadata": {},
   "outputs": [],
   "source": []
  },
  {
   "cell_type": "code",
   "execution_count": null,
   "id": "ca8a4531",
   "metadata": {},
   "outputs": [],
   "source": []
  },
  {
   "cell_type": "code",
   "execution_count": null,
   "id": "0aaf4761",
   "metadata": {},
   "outputs": [],
   "source": []
  },
  {
   "cell_type": "code",
   "execution_count": null,
   "id": "fac9b3fe",
   "metadata": {},
   "outputs": [],
   "source": [
    "id\n",
    "link \n",
    "tender_name \n",
    "tender_number \n",
    "reference_number \n",
    "purpose \n",
    "document_value \n",
    "status\n",
    "contract_duration \n",
    "insurance_required \n",
    "tender_type\n",
    "government_entity \n",
    "last_query_date \n",
    "last_submission_date\n",
    "opening_date \n",
    "evaluation_date\n",
    "suspension_period \n",
    "expected_award_date \n",
    "start_date \n",
    "question_start_date \n",
    "max_query_response_time \n",
    "opening_location \n",
    "attachment \n",
    "created_at "
   ]
  },
  {
   "cell_type": "code",
   "execution_count": null,
   "id": "f19f2edd",
   "metadata": {},
   "outputs": [],
   "source": [
    "            key_mapping = {\n",
    "                \"رقم_المنافسة\": \"tender_number\",\n",
    "                \"اسم_المنافسة\": \"tender_name\",\n",
    "                \"الرقم_المرجعي\": \"reference_number\",\n",
    "                \"الغرض_من_المنافسة\": \"purpose\",\n",
    "                \"قيمة_وثائق_المنافسة\": \"document_value\",\n",
    "                \"حالة_المنافسة\": \"status\",\n",
    "                \"مدة_العقد\": \"contract_duration\",\n",
    "                \"هل_التأمين_من_متطلبات_المنافسة\": \"insurance_required\",\n",
    "                \"نوع_المنافسة\": \"tender_type\",\n",
    "                \"الجهة_الحكوميه\": \"government_entity\",\n",
    "                \"آخر_موعد_لإستلام_الإستفسارات\": \"last_query_date\",\n",
    "                \"آخر_موعد_لتقديم_العروض\": \"last_submission_date\",\n",
    "                \"تاريخ_فتح_العروض\": \"opening_date\",\n",
    "                \"تاريخ_فحص_العروض\": \"evaluation_date\",\n",
    "                \"فترة_التوقف\": \"suspension_period\",\n",
    "                \"التاريخ_المتوقع_للترسية\": \"expected_award_date\",\n",
    "                \"تاريخ_بدء_الأعمال_/_الخدمات\": \"start_date\",\n",
    "                \"بداية_إرسال_الأسئلة_و_الاستفسارات\": \"question_start_date\",\n",
    "                \"اقصى_مدة_للاجابة_على_الاستفسارات\": \"max_query_response_time\",\n",
    "                \"مكان_فتح_العرض\": \"opening_location\",\n",
    "                \"Link\": \"link\"\n",
    "            }"
   ]
  },
  {
   "cell_type": "code",
   "execution_count": null,
   "id": "af6baaf7",
   "metadata": {},
   "outputs": [],
   "source": []
  },
  {
   "cell_type": "code",
   "execution_count": 16,
   "id": "5589678c",
   "metadata": {},
   "outputs": [],
   "source": [
    "mapped_tender = {\n",
    "    \"tender_number\": \"2025/04-05\",\n",
    "    \"tender_name\": \"نظام تحليل البيانات وذكاء الأعمال ودعم اتخاذ القرار لقطاعات الهيئة المختلفة\",\n",
    "    \"reference_number\": \"250539010015\",\n",
    "    \"purpose\": \"توحيد مصادر البيانات واستخراج البيانات المرجعية والرئيسية عن طريق بناء مستودع بيانات حسب السياسات والتنظيمات الصادرة من مكتب إدارة البيانات الوطنية ...عرض الأقل...\",\n",
    "    \"document_value\": \"1000.00\",\n",
    "    \"status\": \"معتمدة\",\n",
    "    \"contract_duration\": \"24 شهر\",\n",
    "    \"insurance_required\": \"لا\",\n",
    "    \"tender_type\": \"منافسة إتفاقية إطارية\",\n",
    "    \"government_entity\": \"الهيئة العامة للولاية على أموال القاصرين ومن في حكمهم\",\n",
    "    \"last_query_date\": \"23/07/2025 28/01/1447\",\n",
    "    \"last_submission_date\": \"27/07/2025 02/02/1447 09:59 AM\",\n",
    "    \"opening_date\": \"27/07/2025 02/02/1447 10:00 AM\",\n",
    "    \"evaluation_date\": \"لا يوجد\",\n",
    "    \"suspension_period\": \"5\",\n",
    "    \"expected_award_date\": \"07/09/2025 15/03/1447\",\n",
    "    \"start_date\": \"30/09/2025 08/04/1447\",\n",
    "    \"question_start_date\": \"14/07/2025 19/01/1447\",\n",
    "    \"max_query_response_time\": \"3\",\n",
    "    \"opening_location\": \"المقر الرئيس\",\n",
    "    \"link\": \"https://tenders.etimad.sa/Tender/DetailsForVisitor?STenderId=bmLJ22SP0JGprYQ3s7BkxA==\"\n",
    "}"
   ]
  },
  {
   "cell_type": "code",
   "execution_count": 10,
   "id": "ad9bfbdf",
   "metadata": {},
   "outputs": [],
   "source": [
    "import re\n",
    "from datetime import datetime"
   ]
  },
  {
   "cell_type": "code",
   "execution_count": 11,
   "id": "4984ac55",
   "metadata": {},
   "outputs": [],
   "source": [
    "def parse_arabic_datetime(value: str) -> datetime:\n",
    "    \"\"\"\n",
    "    Extract Gregorian date and time (if exists) from Arabic Etimad string,\n",
    "    convert to datetime object. Ignores Hijri date.\n",
    "    \"\"\"\n",
    "    if not value or not isinstance(value, str):\n",
    "        return None\n",
    "\n",
    "    # Match date like 27/07/2025 and optional time like 09:59 AM\n",
    "    match = re.search(r'(\\d{2}/\\d{2}/\\d{4})(?:\\s+(\\d{1,2}:\\d{2}\\s*(?:AM|PM)?))?', value)\n",
    "    if not match:\n",
    "        return value\n",
    "\n",
    "    date_part = match.group(1)\n",
    "    time_part = match.group(2) or \"00:00\"\n",
    "\n",
    "    # Normalize time format (e.g., \"09:59 AM\" or \"10:00\")\n",
    "    try:\n",
    "        if \"AM\" in time_part or \"PM\" in time_part:\n",
    "            dt = datetime.strptime(f\"{date_part} {time_part}\", \"%d/%m/%Y %I:%M %p\")\n",
    "        else:\n",
    "            dt = datetime.strptime(f\"{date_part} {time_part}\", \"%d/%m/%Y %H:%M\")\n",
    "        return dt\n",
    "    except ValueError:\n",
    "        return None"
   ]
  },
  {
   "cell_type": "code",
   "execution_count": 12,
   "id": "cf738339",
   "metadata": {},
   "outputs": [],
   "source": [
    "for key in tender:\n",
    "    if key in [\"last_query_date\", \"last_submission_date\", \"opening_date\", \n",
    "               \"evaluation_date\", \"expected_award_date\", \"start_date\", \"question_start_date\"]:\n",
    "        tender[key] = parse_arabic_datetime(tender[key])"
   ]
  },
  {
   "cell_type": "code",
   "execution_count": 14,
   "id": "6be458bb",
   "metadata": {},
   "outputs": [
    {
     "data": {
      "text/plain": [
       "{'tender_number': '2025/04-05',\n",
       " 'tender_name': 'نظام تحليل البيانات وذكاء الأعمال ودعم اتخاذ القرار لقطاعات الهيئة المختلفة',\n",
       " 'reference_number': '250539010015',\n",
       " 'purpose': 'توحيد مصادر البيانات واستخراج البيانات المرجعية والرئيسية عن طريق بناء مستودع بيانات حسب السياسات والتنظيمات الصادرة من مكتب إدارة البيانات الوطنية ...عرض الأقل...',\n",
       " 'document_value': '1000.00',\n",
       " 'status': 'معتمدة',\n",
       " 'contract_duration': '24 شهر',\n",
       " 'insurance_required': 'لا',\n",
       " 'tender_type': 'منافسة إتفاقية إطارية',\n",
       " 'government_entity': 'الهيئة العامة للولاية على أموال القاصرين ومن في حكمهم',\n",
       " 'last_query_date': datetime.datetime(2025, 7, 23, 0, 0),\n",
       " 'last_submission_date': datetime.datetime(2025, 7, 27, 0, 0),\n",
       " 'opening_date': datetime.datetime(2025, 7, 27, 0, 0),\n",
       " 'evaluation_date': 'لا يوجد',\n",
       " 'suspension_period': '5',\n",
       " 'expected_award_date': datetime.datetime(2025, 9, 7, 0, 0),\n",
       " 'start_date': datetime.datetime(2025, 9, 30, 0, 0),\n",
       " 'question_start_date': datetime.datetime(2025, 7, 14, 0, 0),\n",
       " 'max_query_response_time': '3',\n",
       " 'opening_location': 'المقر الرئيس',\n",
       " 'link': 'https://tenders.etimad.sa/Tender/DetailsForVisitor?STenderId=bmLJ22SP0JGprYQ3s7BkxA=='}"
      ]
     },
     "execution_count": 14,
     "metadata": {},
     "output_type": "execute_result"
    }
   ],
   "source": [
    "tender"
   ]
  },
  {
   "cell_type": "code",
   "execution_count": 17,
   "id": "834995ce",
   "metadata": {},
   "outputs": [],
   "source": [
    "keys = [k for k in mapped_tender.keys() if k not in [\"created_at\", \"attachment\", \"status_company\"]]\n",
    "for key in [\"last_query_date\", \"last_submission_date\", \"opening_date\", \n",
    "                \"evaluation_date\", \"expected_award_date\", \"start_date\", \"question_start_date\"]:\n",
    "    mapped_tender[key] = parse_arabic_datetime(mapped_tender[key])\n",
    "values = [mapped_tender[k] for k in keys]"
   ]
  },
  {
   "cell_type": "code",
   "execution_count": 18,
   "id": "ebfd8a6f",
   "metadata": {},
   "outputs": [],
   "source": [
    "placeholders = \", \".join([\"%s\"] * len(keys))\n",
    "columns = \", \".join(f\"`{k}`\" for k in keys)\n",
    "update_clause = \", \".join([f\"`{k}`=VALUES(`{k}`)\" for k in keys if k != \"tender_number\"])"
   ]
  },
  {
   "cell_type": "code",
   "execution_count": 21,
   "id": "4e8679bb",
   "metadata": {},
   "outputs": [],
   "source": [
    "sql = f\"\"\"\n",
    "INSERT INTO tenders ({columns})\n",
    "VALUES ({placeholders})\n",
    "ON DUPLICATE KEY UPDATE {update_clause}\n",
    "\"\"\""
   ]
  },
  {
   "cell_type": "code",
   "execution_count": 22,
   "id": "19289ff0",
   "metadata": {},
   "outputs": [
    {
     "name": "stdout",
     "output_type": "stream",
     "text": [
      "\n",
      "INSERT INTO tenders (`tender_number`, `tender_name`, `reference_number`, `purpose`, `document_value`, `status`, `contract_duration`, `insurance_required`, `tender_type`, `government_entity`, `last_query_date`, `last_submission_date`, `opening_date`, `evaluation_date`, `suspension_period`, `expected_award_date`, `start_date`, `question_start_date`, `max_query_response_time`, `opening_location`, `link`)\n",
      "VALUES (%s, %s, %s, %s, %s, %s, %s, %s, %s, %s, %s, %s, %s, %s, %s, %s, %s, %s, %s, %s, %s)\n",
      "ON DUPLICATE KEY UPDATE `tender_name`=VALUES(`tender_name`), `reference_number`=VALUES(`reference_number`), `purpose`=VALUES(`purpose`), `document_value`=VALUES(`document_value`), `status`=VALUES(`status`), `contract_duration`=VALUES(`contract_duration`), `insurance_required`=VALUES(`insurance_required`), `tender_type`=VALUES(`tender_type`), `government_entity`=VALUES(`government_entity`), `last_query_date`=VALUES(`last_query_date`), `last_submission_date`=VALUES(`last_submission_date`), `opening_date`=VALUES(`opening_date`), `evaluation_date`=VALUES(`evaluation_date`), `suspension_period`=VALUES(`suspension_period`), `expected_award_date`=VALUES(`expected_award_date`), `start_date`=VALUES(`start_date`), `question_start_date`=VALUES(`question_start_date`), `max_query_response_time`=VALUES(`max_query_response_time`), `opening_location`=VALUES(`opening_location`), `link`=VALUES(`link`)\n",
      "\n"
     ]
    }
   ],
   "source": [
    "print(sql)"
   ]
  },
  {
   "cell_type": "code",
   "execution_count": null,
   "id": "14f14e0d",
   "metadata": {},
   "outputs": [],
   "source": []
  }
 ],
 "metadata": {
  "kernelspec": {
   "display_name": "etimad_scraper",
   "language": "python",
   "name": "python3"
  },
  "language_info": {
   "codemirror_mode": {
    "name": "ipython",
    "version": 3
   },
   "file_extension": ".py",
   "mimetype": "text/x-python",
   "name": "python",
   "nbconvert_exporter": "python",
   "pygments_lexer": "ipython3",
   "version": "3.10.17"
  }
 },
 "nbformat": 4,
 "nbformat_minor": 5
}
